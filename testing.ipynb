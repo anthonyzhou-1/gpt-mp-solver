{
 "cells": [
  {
   "cell_type": "markdown",
   "metadata": {},
   "source": [
    "## Data Loading"
   ]
  },
  {
   "cell_type": "code",
   "execution_count": 1,
   "metadata": {},
   "outputs": [
    {
     "data": {
      "text/plain": [
       "<KeysViewHDF5 ['alpha', 'beta', 'gamma', 'pde_250-100', 'pde_250-200', 'pde_250-40', 'pde_250-50']>"
      ]
     },
     "execution_count": 1,
     "metadata": {},
     "output_type": "execute_result"
    }
   ],
   "source": [
    "import h5py\n",
    "import torch\n",
    "\n",
    "path = \"/home/cmu/anthony/MP-Neural-PDE-Solvers/data/CE_train_E1.h5\"\n",
    "f = h5py.File(path, 'r')\n",
    "data = f['train']\n",
    "data.keys()"
   ]
  },
  {
   "cell_type": "code",
   "execution_count": 2,
   "metadata": {},
   "outputs": [],
   "source": [
    "from common.utils import HDF5Dataset\n",
    "from torch.utils.data import DataLoader\n",
    "\n",
    "pde = 'CE'\n",
    "experiment = 'E1'\n",
    "train_string = f'data/{pde}_train_{experiment}.h5'\n",
    "dataset = HDF5Dataset(train_string, pde=pde, mode='train')\n",
    "train_loader = DataLoader(dataset,\n",
    "                        batch_size=2,\n",
    "                        shuffle=False,\n",
    "                        num_workers=4)\n",
    "u_base, u_super, x, variables = next(iter(train_loader))\n",
    "batch_size, tn, xn = u_base.shape"
   ]
  },
  {
   "cell_type": "code",
   "execution_count": 3,
   "metadata": {},
   "outputs": [
    {
     "data": {
      "text/plain": [
       "tensor([0.4675, 0.5472, 0.6220, 0.6911, 0.7534, 0.8082, 0.8545, 0.8919, 0.9197,\n",
       "        0.9376])"
      ]
     },
     "execution_count": 3,
     "metadata": {},
     "output_type": "execute_result"
    }
   ],
   "source": [
    "u_base[0][0][0:10]"
   ]
  },
  {
   "cell_type": "code",
   "execution_count": 5,
   "metadata": {},
   "outputs": [
    {
     "data": {
      "text/plain": [
       "tensor([0.4666, 0.5456, 0.6199, 0.6885, 0.7504, 0.8048, 0.8510, 0.8883, 0.9163,\n",
       "        0.9345])"
      ]
     },
     "execution_count": 5,
     "metadata": {},
     "output_type": "execute_result"
    }
   ],
   "source": [
    "u_super[0][0][0:10]"
   ]
  },
  {
   "cell_type": "code",
   "execution_count": 3,
   "metadata": {},
   "outputs": [
    {
     "name": "stderr",
     "output_type": "stream",
     "text": [
      "100%|██████████| 250/250 [00:00<00:00, 958.26it/s]\n"
     ]
    },
    {
     "data": {
      "image/png": "[encoded data removed]",
      "text/plain": [
       "<Figure size 640x480 with 1 Axes>"
      ]
     },
     "metadata": {},
     "output_type": "display_data"
    }
   ],
   "source": [
    "import matplotlib.pyplot as plt\n",
    "import matplotlib.animation as animation\n",
    "from tqdm import tqdm\n",
    "\n",
    "u_n = u_base[0]\n",
    "x_n = x[0]\n",
    "\n",
    "fig, ax = plt.subplots()\n",
    "\n",
    "# Store the plot handle at each time step in the 'ims' list\n",
    "ims = []\n",
    "for i in tqdm(range(tn)):\n",
    "    im = ax.plot(x_n, u_n[i],'b-', animated=True)\n",
    "    if i == 0:\n",
    "        ax.plot(x_n, u_n[i].squeeze())  # show an initial one first\n",
    "    ax.plot\n",
    "    ims.append([im[0]])\n",
    "\n",
    "# Animate the plot\n",
    "ani = animation.ArtistAnimation(fig, ims, interval=50, blit=True, repeat_delay=1000)\n",
    "\n",
    "writer = animation.PillowWriter(fps=15, bitrate=1800)\n",
    "ani.save(\"assets/movie_E1_5_1.gif\", writer=writer)"
   ]
  },
  {
   "cell_type": "markdown",
   "metadata": {},
   "source": [
    "## GPT Setup"
   ]
  },
  {
   "cell_type": "code",
   "execution_count": 50,
   "metadata": {},
   "outputs": [
    {
     "name": "stdout",
     "output_type": "stream",
     "text": [
      "number of parameters: 2.48M\n"
     ]
    }
   ],
   "source": [
    "from common.utils import HDF5Dataset\n",
    "from torch.utils.data import DataLoader\n",
    "from experiments.models_gpt import GPT\n",
    "\n",
    "pde = 'CE'\n",
    "experiment = 'E1'\n",
    "train_string = f'data/{pde}_train_{experiment}.h5'\n",
    "dataset = HDF5Dataset(train_string, pde=pde, mode='train')\n",
    "train_loader = DataLoader(dataset,\n",
    "                        batch_size=2,\n",
    "                        shuffle=True,\n",
    "                        num_workers=4)\n",
    "\n",
    "config = {\"batch_size\" : 2, # if gradient_accumulation_steps > 1, this is the micro-batch size\n",
    "        \"n_x\": 100, \n",
    "        \"block_size\" : 250, # max sequence length for predicting next timestep. Sequence length can be shorter.\n",
    "        \"n_layer\" : 3, \n",
    "        \"n_head\" : 8,\n",
    "        \"n_embd\" : 256,\n",
    "        \"n_gnn\": 100,\n",
    "        \"dropout\" : 0.0, # for pretraining 0 is good, for finetuning try 0.1+\n",
    "        \"bias\" : False # do we use bias inside LayerNorm and Linear layers?\n",
    "}\n",
    "\n",
    "model = GPT(config)\n",
    "u_base, u_super, x, variables = next(iter(train_loader))\n",
    "out = model(u_base[:, :250, :])"
   ]
  },
  {
   "cell_type": "code",
   "execution_count": 51,
   "metadata": {},
   "outputs": [],
   "source": [
    "out2 = model(u_base[:, :100, :])"
   ]
  },
  {
   "cell_type": "code",
   "execution_count": 54,
   "metadata": {},
   "outputs": [
    {
     "data": {
      "text/plain": [
       "True"
      ]
     },
     "execution_count": 54,
     "metadata": {},
     "output_type": "execute_result"
    }
   ],
   "source": [
    "torch.allclose(out[:, :100, :], out2[:, :100, :])"
   ]
  },
  {
   "cell_type": "markdown",
   "metadata": {},
   "source": [
    "## GNN Setup"
   ]
  },
  {
   "cell_type": "code",
   "execution_count": 1,
   "metadata": {},
   "outputs": [
    {
     "name": "stdout",
     "output_type": "stream",
     "text": [
      "number of parameters: 2.48M\n"
     ]
    }
   ],
   "source": [
    "from common.utils import HDF5Dataset\n",
    "from torch.utils.data import DataLoader\n",
    "from experiments.models_gpt import GPT\n",
    "from common.utils import GraphCreator\n",
    "from equations.PDEs import *\n",
    "import random\n",
    "from experiments.models_gnn import MP_PDE_Solver\n",
    "\n",
    "pde = 'CE'\n",
    "experiment = 'E1'\n",
    "train_string = f'data/{pde}_train_{experiment}.h5'\n",
    "dataset = HDF5Dataset(train_string, pde=pde, mode='train')\n",
    "loader = DataLoader(dataset,\n",
    "                        batch_size=2,\n",
    "                        shuffle=True,\n",
    "                        num_workers=4)\n",
    "\n",
    "u_base, u_super, x, variables = next(iter(loader))\n",
    "\n",
    "base_resolution = (250, 100)\n",
    "pde = CE()\n",
    "pde.tmin = dataset.tmin\n",
    "pde.tmax = dataset.tmax\n",
    "pde.grid_size = base_resolution\n",
    "pde.dt = dataset.dt\n",
    "graph_creator = GraphCreator(pde=pde,\n",
    "                            neighbors=2,\n",
    "                            time_window=20,\n",
    "                            t_resolution=base_resolution[0],\n",
    "                            x_resolution=base_resolution[1])\n",
    "\n",
    "unrolling = [r for r in range(2 + 1)]\n",
    "unrolled_graphs = random.choice(unrolling)\n",
    "steps = [t for t in range(graph_creator.tw,\n",
    "                            graph_creator.t_res - graph_creator.tw - (graph_creator.tw * unrolled_graphs) + 1)]\n",
    "random_steps = random.choices(steps, k=2)\n",
    "data, labels = graph_creator.create_data(u_super, random_steps)\n",
    "data_gpt = u_super\n",
    "\n",
    "config = {\"batch_size\" : 2, # if gradient_accumulation_steps > 1, this is the micro-batch size\n",
    "        \"n_x\": 100, \n",
    "        \"block_size\" : 250, # max sequence length for predicting next timestep. Sequence length can be shorter.\n",
    "        \"n_layer\" : 3, \n",
    "        \"n_head\" : 8,\n",
    "        \"n_embd\" : 256,\n",
    "        \"n_gnn\": 100,\n",
    "        \"dropout\" : 0.0, # for pretraining 0 is good, for finetuning try 0.1+\n",
    "        \"bias\" : False # do we use bias inside LayerNorm and Linear layers?\n",
    "}\n",
    "\n",
    "model_gpt = GPT(config)\n",
    "embeddings = model_gpt(data_gpt)\n",
    "graph = graph_creator.create_graph(data, embeddings, labels, x, variables, random_steps)\n",
    "\n",
    "eq_variables = {}\n",
    "model = MP_PDE_Solver(pde=pde,\n",
    "                        time_window=graph_creator.tw,\n",
    "                        eq_variables=eq_variables)\n",
    "\n",
    "pred = model(graph)"
   ]
  },
  {
   "cell_type": "code",
   "execution_count": 2,
   "metadata": {},
   "outputs": [
    {
     "data": {
      "text/plain": [
       "torch.Size([200, 20])"
      ]
     },
     "execution_count": 2,
     "metadata": {},
     "output_type": "execute_result"
    }
   ],
   "source": [
    "graph.x.shape"
   ]
  },
  {
   "cell_type": "code",
   "execution_count": 3,
   "metadata": {},
   "outputs": [
    {
     "data": {
      "text/plain": [
       "torch.Size([200, 20])"
      ]
     },
     "execution_count": 3,
     "metadata": {},
     "output_type": "execute_result"
    }
   ],
   "source": [
    "pred.shape"
   ]
  },
  {
   "cell_type": "code",
   "execution_count": 8,
   "metadata": {},
   "outputs": [],
   "source": [
    "u = data.x\n",
    "e = data.e\n",
    "# Encode and normalize coordinate information\n",
    "pos = data.pos\n",
    "pos_x = pos[:, 1][:, None] / pde.L\n",
    "pos_t = pos[:, 0][:, None] / pde.tmax\n",
    "edge_index = data.edge_index\n",
    "batch = data.batch\n",
    "\n",
    "variables = pos_t    # time is treated as equation variable\n",
    "\n",
    "# Encoder and processor (message passing)\n",
    "node_input = torch.cat((u, e, pos_x, variables), -1)"
   ]
  },
  {
   "cell_type": "code",
   "execution_count": 14,
   "metadata": {},
   "outputs": [
    {
     "data": {
      "text/plain": [
       "torch.Size([200, 12])"
      ]
     },
     "execution_count": 14,
     "metadata": {},
     "output_type": "execute_result"
    }
   ],
   "source": [
    "node_input.shape"
   ]
  },
  {
   "cell_type": "code",
   "execution_count": 6,
   "metadata": {},
   "outputs": [
    {
     "data": {
      "text/plain": [
       "tensor([[1.],\n",
       "        [1.],\n",
       "        [1.],\n",
       "        [1.],\n",
       "        [1.],\n",
       "        [1.],\n",
       "        [1.],\n",
       "        [1.],\n",
       "        [1.],\n",
       "        [1.],\n",
       "        [1.],\n",
       "        [1.],\n",
       "        [1.],\n",
       "        [1.],\n",
       "        [1.],\n",
       "        [1.],\n",
       "        [1.],\n",
       "        [1.],\n",
       "        [1.],\n",
       "        [1.],\n",
       "        [1.],\n",
       "        [1.],\n",
       "        [1.],\n",
       "        [1.],\n",
       "        [1.],\n",
       "        [1.],\n",
       "        [1.],\n",
       "        [1.],\n",
       "        [1.],\n",
       "        [1.],\n",
       "        [1.],\n",
       "        [1.],\n",
       "        [1.],\n",
       "        [1.],\n",
       "        [1.],\n",
       "        [1.],\n",
       "        [1.],\n",
       "        [1.],\n",
       "        [1.],\n",
       "        [1.],\n",
       "        [1.],\n",
       "        [1.],\n",
       "        [1.],\n",
       "        [1.],\n",
       "        [1.],\n",
       "        [1.],\n",
       "        [1.],\n",
       "        [1.],\n",
       "        [1.],\n",
       "        [1.],\n",
       "        [1.],\n",
       "        [1.],\n",
       "        [1.],\n",
       "        [1.],\n",
       "        [1.],\n",
       "        [1.],\n",
       "        [1.],\n",
       "        [1.],\n",
       "        [1.],\n",
       "        [1.],\n",
       "        [1.],\n",
       "        [1.],\n",
       "        [1.],\n",
       "        [1.],\n",
       "        [1.],\n",
       "        [1.],\n",
       "        [1.],\n",
       "        [1.],\n",
       "        [1.],\n",
       "        [1.],\n",
       "        [1.],\n",
       "        [1.],\n",
       "        [1.],\n",
       "        [1.],\n",
       "        [1.],\n",
       "        [1.],\n",
       "        [1.],\n",
       "        [1.],\n",
       "        [1.],\n",
       "        [1.],\n",
       "        [1.],\n",
       "        [1.],\n",
       "        [1.],\n",
       "        [1.],\n",
       "        [1.],\n",
       "        [1.],\n",
       "        [1.],\n",
       "        [1.],\n",
       "        [1.],\n",
       "        [1.],\n",
       "        [1.],\n",
       "        [1.],\n",
       "        [1.],\n",
       "        [1.],\n",
       "        [1.],\n",
       "        [1.],\n",
       "        [1.],\n",
       "        [1.],\n",
       "        [1.],\n",
       "        [1.],\n",
       "        [1.],\n",
       "        [1.],\n",
       "        [1.],\n",
       "        [1.],\n",
       "        [1.],\n",
       "        [1.],\n",
       "        [1.],\n",
       "        [1.],\n",
       "        [1.],\n",
       "        [1.],\n",
       "        [1.],\n",
       "        [1.],\n",
       "        [1.],\n",
       "        [1.],\n",
       "        [1.],\n",
       "        [1.],\n",
       "        [1.],\n",
       "        [1.],\n",
       "        [1.],\n",
       "        [1.],\n",
       "        [1.],\n",
       "        [1.],\n",
       "        [1.],\n",
       "        [1.],\n",
       "        [1.],\n",
       "        [1.],\n",
       "        [1.],\n",
       "        [1.],\n",
       "        [1.],\n",
       "        [1.],\n",
       "        [1.],\n",
       "        [1.],\n",
       "        [1.],\n",
       "        [1.],\n",
       "        [1.],\n",
       "        [1.],\n",
       "        [1.],\n",
       "        [1.],\n",
       "        [1.],\n",
       "        [1.],\n",
       "        [1.],\n",
       "        [1.],\n",
       "        [1.],\n",
       "        [1.],\n",
       "        [1.],\n",
       "        [1.],\n",
       "        [1.],\n",
       "        [1.],\n",
       "        [1.],\n",
       "        [1.],\n",
       "        [1.],\n",
       "        [1.],\n",
       "        [1.],\n",
       "        [1.],\n",
       "        [1.],\n",
       "        [1.],\n",
       "        [1.],\n",
       "        [1.],\n",
       "        [1.],\n",
       "        [1.],\n",
       "        [1.],\n",
       "        [1.],\n",
       "        [1.],\n",
       "        [1.],\n",
       "        [1.],\n",
       "        [1.],\n",
       "        [1.],\n",
       "        [1.],\n",
       "        [1.],\n",
       "        [1.],\n",
       "        [1.],\n",
       "        [1.],\n",
       "        [1.],\n",
       "        [1.],\n",
       "        [1.],\n",
       "        [1.],\n",
       "        [1.],\n",
       "        [1.],\n",
       "        [1.],\n",
       "        [1.],\n",
       "        [1.],\n",
       "        [1.],\n",
       "        [1.],\n",
       "        [1.],\n",
       "        [1.],\n",
       "        [1.],\n",
       "        [1.],\n",
       "        [1.],\n",
       "        [1.],\n",
       "        [1.],\n",
       "        [1.],\n",
       "        [1.],\n",
       "        [1.],\n",
       "        [1.],\n",
       "        [1.],\n",
       "        [1.],\n",
       "        [1.],\n",
       "        [1.],\n",
       "        [1.],\n",
       "        [1.]])"
      ]
     },
     "execution_count": 6,
     "metadata": {},
     "output_type": "execute_result"
    }
   ],
   "source": [
    "data.alpha"
   ]
  },
  {
   "cell_type": "code",
   "execution_count": 3,
   "metadata": {},
   "outputs": [
    {
     "data": {
      "text/plain": [
       "torch.Size([200, 5])"
      ]
     },
     "execution_count": 3,
     "metadata": {},
     "output_type": "execute_result"
    }
   ],
   "source": [
    "graph.e.shape"
   ]
  },
  {
   "cell_type": "code",
   "execution_count": 91,
   "metadata": {},
   "outputs": [],
   "source": [
    "graph = graph_creator.create_graph(data, labels, x, variables, random_steps)"
   ]
  },
  {
   "cell_type": "code",
   "execution_count": 108,
   "metadata": {},
   "outputs": [
    {
     "name": "stdout",
     "output_type": "stream",
     "text": [
      "number of parameters: 2.48M\n"
     ]
    }
   ],
   "source": [
    "config = {\"batch_size\" : 2, # if gradient_accumulation_steps > 1, this is the micro-batch size\n",
    "        \"n_x\": 100, \n",
    "        \"block_size\" : 250, # max sequence length for predicting next timestep. Sequence length can be shorter.\n",
    "        \"n_layer\" : 3, \n",
    "        \"n_head\" : 8,\n",
    "        \"n_embd\" : 256,\n",
    "        \"n_gnn\": 100,\n",
    "        \"dropout\" : 0.0, # for pretraining 0 is good, for finetuning try 0.1+\n",
    "        \"bias\" : False # do we use bias inside LayerNorm and Linear layers?\n",
    "}\n",
    "\n",
    "model_gpt = GPT(config)"
   ]
  },
  {
   "cell_type": "code",
   "execution_count": 109,
   "metadata": {},
   "outputs": [],
   "source": [
    "embeddings = model_gpt(data_gpt)"
   ]
  },
  {
   "cell_type": "code",
   "execution_count": 121,
   "metadata": {},
   "outputs": [
    {
     "data": {
      "text/plain": [
       "torch.Size([5, 100])"
      ]
     },
     "execution_count": 121,
     "metadata": {},
     "output_type": "execute_result"
    }
   ],
   "source": [
    "embeddings[0][0:5].shape"
   ]
  },
  {
   "cell_type": "code",
   "execution_count": 122,
   "metadata": {},
   "outputs": [],
   "source": [
    "nt = pde.grid_size[0]\n",
    "nx = pde.grid_size[1]\n",
    "t = torch.linspace(pde.tmin, pde.tmax, nt)\n",
    "tw = 5\n",
    "\n",
    "u, e, x_pos, t_pos, y, batch = torch.Tensor(), torch.Tensor(), torch.Tensor(), torch.Tensor(), torch.Tensor(), torch.Tensor()\n",
    "for b, (data_batch, e_batch, labels_batch, step) in enumerate(zip(data, embeddings, labels, steps)):\n",
    "    # data_batch is [nt, nx]\n",
    "\n",
    "\n",
    "    e_time = e_batch[step - tw:step]\n",
    "    u = torch.cat((u, torch.transpose(torch.cat([d[None, :] for d in data_batch]), 0, 1)), )\n",
    "    e = torch.cat((e, torch.transpose(torch.cat([e_t[None, :] for e_t in e_time]), 0, 1)), )\n",
    "    y = torch.cat((y, torch.transpose(torch.cat([l[None, :] for l in labels_batch]), 0, 1)), )\n",
    "    x_pos = torch.cat((x_pos, x[0]), )\n",
    "    t_pos = torch.cat((t_pos, torch.ones(nx) * t[step]), )\n",
    "    batch = torch.cat((batch, torch.ones(nx) * b), )"
   ]
  },
  {
   "cell_type": "code",
   "execution_count": 123,
   "metadata": {},
   "outputs": [
    {
     "data": {
      "text/plain": [
       "torch.Size([200, 5])"
      ]
     },
     "execution_count": 123,
     "metadata": {},
     "output_type": "execute_result"
    }
   ],
   "source": [
    "e.shape"
   ]
  },
  {
   "cell_type": "code",
   "execution_count": 124,
   "metadata": {},
   "outputs": [
    {
     "data": {
      "text/plain": [
       "torch.Size([200, 5])"
      ]
     },
     "execution_count": 124,
     "metadata": {},
     "output_type": "execute_result"
    }
   ],
   "source": [
    "u.shape"
   ]
  },
  {
   "cell_type": "code",
   "execution_count": 125,
   "metadata": {},
   "outputs": [],
   "source": [
    "test3 = torch.cat((u, e), dim=1)"
   ]
  },
  {
   "cell_type": "code",
   "execution_count": 126,
   "metadata": {},
   "outputs": [
    {
     "data": {
      "text/plain": [
       "torch.Size([200, 10])"
      ]
     },
     "execution_count": 126,
     "metadata": {},
     "output_type": "execute_result"
    }
   ],
   "source": [
    "test3.shape"
   ]
  },
  {
   "cell_type": "code",
   "execution_count": 111,
   "metadata": {},
   "outputs": [],
   "source": [
    "data_batch = data[0]\n",
    "test = [d[None, :] for d in data_batch]"
   ]
  },
  {
   "cell_type": "code",
   "execution_count": 118,
   "metadata": {},
   "outputs": [],
   "source": [
    "test2 = torch.cat(test)"
   ]
  },
  {
   "cell_type": "code",
   "execution_count": 119,
   "metadata": {},
   "outputs": [
    {
     "data": {
      "text/plain": [
       "torch.Size([5, 100])"
      ]
     },
     "execution_count": 119,
     "metadata": {},
     "output_type": "execute_result"
    }
   ],
   "source": [
    "test2.shape"
   ]
  },
  {
   "cell_type": "code",
   "execution_count": 117,
   "metadata": {},
   "outputs": [
    {
     "data": {
      "text/plain": [
       "5"
      ]
     },
     "execution_count": 117,
     "metadata": {},
     "output_type": "execute_result"
    }
   ],
   "source": [
    "len(test)"
   ]
  },
  {
   "cell_type": "code",
   "execution_count": 17,
   "metadata": {},
   "outputs": [
    {
     "data": {
      "text/plain": [
       "torch.Size([2, 250, 100])"
      ]
     },
     "execution_count": 17,
     "metadata": {},
     "output_type": "execute_result"
    }
   ],
   "source": [
    "(out).shape"
   ]
  },
  {
   "cell_type": "code",
   "execution_count": null,
   "metadata": {},
   "outputs": [],
   "source": []
  }
 ],
 "metadata": {
  "kernelspec": {
   "display_name": "mp-pde-solvers",
   "language": "python",
   "name": "python3"
  },
  "language_info": {
   "codemirror_mode": {
    "name": "ipython",
    "version": 3
   },
   "file_extension": ".py",
   "mimetype": "text/x-python",
   "name": "python",
   "nbconvert_exporter": "python",
   "pygments_lexer": "ipython3",
   "version": "3.11.5"
  }
 },
 "nbformat": 4,
 "nbformat_minor": 2
}
